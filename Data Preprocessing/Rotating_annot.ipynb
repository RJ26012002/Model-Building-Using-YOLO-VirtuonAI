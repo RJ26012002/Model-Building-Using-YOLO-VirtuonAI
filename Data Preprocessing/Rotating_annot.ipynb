{
 "cells": [
  {
   "cell_type": "code",
   "execution_count": 1,
   "id": "bc411f5b-446e-465b-b266-e982a6369e6e",
   "metadata": {},
   "outputs": [],
   "source": [
    "import cv2\n",
    "import numpy as np\n",
    "\n",
    "\n"
   ]
  },
  {
   "cell_type": "code",
   "execution_count": 3,
   "id": "264e7fe2-5ccf-40ac-8b90-cf9a1157afdf",
   "metadata": {},
   "outputs": [
    {
     "name": "stdout",
     "output_type": "stream",
     "text": [
      "Rotated Annotations: [(595.0, 841.0, 0, 0)]\n"
     ]
    }
   ],
   "source": [
    "def rotate_yolo_annotations(image, annotations, angle):\n",
    "    # Get image center\n",
    "    height, width = image.shape[:2]\n",
    "    center = (width / 2, height / 2)\n",
    "    \n",
    "    # Rotate image\n",
    "    rotation_matrix = cv2.getRotationMatrix2D(center, angle, 1)\n",
    "    rotated_image = cv2.warpAffine(image, rotation_matrix, (width, height))\n",
    "\n",
    "    # Rotate annotations\n",
    "    for i, annotation in enumerate(annotations):\n",
    "        x_center, y_center, box_width, box_height = annotation\n",
    "\n",
    "        # Convert YOLO format to OpenCV format (x_top_left, y_top_left, x_bottom_right, y_bottom_right)\n",
    "        x_top_left = int(x_center - box_width / 2)\n",
    "        y_top_left = int(y_center - box_height / 2)\n",
    "        x_bottom_right = int(x_center + box_width / 2)\n",
    "        y_bottom_right = int(y_center + box_height / 2)\n",
    "\n",
    "        # Rotate bounding box coordinates\n",
    "        rotated_points = cv2.transform(np.array([[[x_top_left, y_top_left], [x_bottom_right, y_bottom_right]]]), rotation_matrix)\n",
    "        x_top_left_rotated, y_top_left_rotated = rotated_points[0][0]\n",
    "        x_bottom_right_rotated, y_bottom_right_rotated = rotated_points[0][1]\n",
    "\n",
    "        # Calculate new rotated coordinates\n",
    "        new_x_center = (x_top_left_rotated + x_bottom_right_rotated) / 2\n",
    "        new_y_center = (y_top_left_rotated + y_bottom_right_rotated) / 2\n",
    "        new_box_width = abs(x_bottom_right_rotated - x_top_left_rotated)\n",
    "        new_box_height = abs(y_bottom_right_rotated - y_top_left_rotated)\n",
    "\n",
    "        # Update annotations\n",
    "        annotations[i] = (new_x_center, new_y_center, new_box_width, new_box_height)\n",
    "\n",
    "    return rotated_image, annotations\n",
    "\n",
    "# Example usage\n",
    "image_path = \"Template9_Instance6.jpg\"\n",
    "annotations = [(0.15722352941176468, 0.7840734839476813, 0.30772436974789913 , 0.09988109393579059)]  # Example YOLO format annotation\n",
    "angle = 180  # Angle by which to rotate the image and annotations\n",
    "\n",
    "# Read image\n",
    "image = cv2.imread(image_path)\n",
    "\n",
    "# Rotate annotations\n",
    "rotated_image, rotated_annotations = rotate_yolo_annotations(image, annotations, angle)\n",
    "\n",
    "# Display rotated image\n",
    "cv2.imshow(\"Rotated Image\", rotated_image)\n",
    "cv2.waitKey(0)\n",
    "cv2.destroyAllWindows()\n",
    "\n",
    "print(\"Rotated Annotations:\", rotated_annotations)"
   ]
  },
  {
   "cell_type": "code",
   "execution_count": 4,
   "id": "4e1f0d08-b0c4-416c-be9b-d30e95be04c6",
   "metadata": {},
   "outputs": [
    {
     "name": "stdout",
     "output_type": "stream",
     "text": [
      "Rotated Annotations: [(-0.003542882140944641, -0.7341909054534196, -0.30534624846371367, -0.0975029726516051)]\n"
     ]
    }
   ],
   "source": [
    "def rotate_yolo_annotations(annotations, image_height, angle):\n",
    "    rotated_annotations = []\n",
    "    angle_rad = np.radians(angle)\n",
    "    for annotation in annotations:\n",
    "        x_center, y_center, box_width, box_height = annotation\n",
    "\n",
    "        # Convert YOLO format to image coordinates\n",
    "        x_top_left = (x_center - box_width / 2) * image_height\n",
    "        y_top_left = (y_center - box_height / 2) * image_height\n",
    "        x_bottom_right = (x_center + box_width / 2) * image_height\n",
    "        y_bottom_right = (y_center + box_height / 2) * image_height\n",
    "\n",
    "        # Calculate rotated coordinates\n",
    "        x_center_rotated = x_center\n",
    "        y_center_rotated = y_center\n",
    "        box_width_rotated = box_width\n",
    "        box_height_rotated = box_height\n",
    "\n",
    "        # Apply rotation if angle is not 0\n",
    "        if angle != 0:\n",
    "            x_center_rotated = x_center\n",
    "            y_center_rotated = y_center\n",
    "            box_width_rotated = box_width\n",
    "            box_height_rotated = box_height\n",
    "\n",
    "            # Rotate the box around the image center\n",
    "            x_center_rotated, y_center_rotated = rotate_point(x_center, y_center, 0.5, 0.5, angle_rad)\n",
    "            x_top_left_rotated, y_top_left_rotated = rotate_point(x_top_left, y_top_left, 0, 0, angle_rad)\n",
    "            x_bottom_right_rotated, y_bottom_right_rotated = rotate_point(x_bottom_right, y_bottom_right, 1, 1, angle_rad)\n",
    "\n",
    "            # Convert back to YOLO format\n",
    "            box_width_rotated = (x_bottom_right_rotated - x_top_left_rotated) / image_height\n",
    "            box_height_rotated = (y_bottom_right_rotated - y_top_left_rotated) / image_height\n",
    "            x_center_rotated = (x_top_left_rotated + box_width_rotated / 2) / image_height\n",
    "            y_center_rotated = (y_top_left_rotated + box_height_rotated / 2) / image_height\n",
    "\n",
    "        rotated_annotations.append((x_center_rotated, y_center_rotated, box_width_rotated, box_height_rotated))\n",
    "\n",
    "    return rotated_annotations\n",
    "\n",
    "def rotate_point(x, y, cx, cy, angle):\n",
    "    # Translate point to origin\n",
    "    x -= cx\n",
    "    y -= cy\n",
    "\n",
    "    # Apply rotation\n",
    "    x_new = x * np.cos(angle) - y * np.sin(angle)\n",
    "    y_new = x * np.sin(angle) + y * np.cos(angle)\n",
    "\n",
    "    # Translate point back\n",
    "    x_new += cx\n",
    "    y_new += cy\n",
    "\n",
    "    return x_new, y_new\n",
    "\n",
    "# Example usage\n",
    "annotations = [(0.15722352941176468, 0.7840734839476813, 0.30772436974789913 , 0.09988109393579059)]  # Example YOLO format annotation\n",
    "image_height = 841  # Example image height in pixels\n",
    "angle = 180  # Angle by which to rotate the annotations\n",
    "\n",
    "# Rotate annotations\n",
    "rotated_annotations = rotate_yolo_annotations(annotations, image_height, angle)\n",
    "\n",
    "print(\"Rotated Annotations:\", rotated_annotations)"
   ]
  },
  {
   "cell_type": "code",
   "execution_count": 5,
   "id": "1cdae1d1-51ad-42ed-9189-fa7b792b07d8",
   "metadata": {},
   "outputs": [],
   "source": [
    "import os\n",
    "import json\n",
    "import torch\n",
    "from PIL import Image, ImageDraw\n",
    "from concurrent.futures import ThreadPoolExecutor\n",
    "from tqdm import tqdm\n",
    "import tkinter as tk\n",
    "from tkinter import ttk"
   ]
  },
  {
   "cell_type": "code",
   "execution_count": 6,
   "id": "f9fbcb59-7fc8-4d0b-8503-1a854349527a",
   "metadata": {},
   "outputs": [],
   "source": [
    "image_folder = 'D:/Revert Annotations/images'\n",
    "annotation_folder = 'D:/Revert Annotations/annotations'\n",
    "output_folder = 'D:/Revert Annotations/revert_annotations'\n"
   ]
  },
  {
   "cell_type": "code",
   "execution_count": 43,
   "id": "d1a21e6b-a808-4b8f-addc-842e233e81b9",
   "metadata": {},
   "outputs": [
    {
     "ename": "TypeError",
     "evalue": "string indices must be integers",
     "output_type": "error",
     "traceback": [
      "\u001b[1;31m---------------------------------------------------------------------------\u001b[0m",
      "\u001b[1;31mTypeError\u001b[0m                                 Traceback (most recent call last)",
      "Cell \u001b[1;32mIn[43], line 8\u001b[0m\n\u001b[0;32m      6\u001b[0m \u001b[38;5;28;01mfor\u001b[39;00m label_data \u001b[38;5;129;01min\u001b[39;00m annotation_data:\n\u001b[0;32m      7\u001b[0m         \u001b[38;5;28;01mif\u001b[39;00m \u001b[38;5;124m'\u001b[39m\u001b[38;5;124mbbox\u001b[39m\u001b[38;5;124m'\u001b[39m \u001b[38;5;129;01min\u001b[39;00m label_data:\n\u001b[1;32m----> 8\u001b[0m             bbox \u001b[38;5;241m=\u001b[39m \u001b[43mlabel_data\u001b[49m\u001b[43m[\u001b[49m\u001b[38;5;124;43m'\u001b[39;49m\u001b[38;5;124;43mbbox\u001b[39;49m\u001b[38;5;124;43m'\u001b[39;49m\u001b[43m]\u001b[49m\n\u001b[0;32m      9\u001b[0m             \u001b[38;5;66;03m# Swap y-coordinates to correct inversion\u001b[39;00m\n\u001b[0;32m     10\u001b[0m             bbox \u001b[38;5;241m=\u001b[39m [(x, \u001b[38;5;241m841\u001b[39m \u001b[38;5;241m-\u001b[39m y) \u001b[38;5;28;01mfor\u001b[39;00m x, y \u001b[38;5;129;01min\u001b[39;00m bbox]\n",
      "\u001b[1;31mTypeError\u001b[0m: string indices must be integers"
     ]
    }
   ],
   "source": [
    "for filename in os.listdir(annotation_folder):\n",
    "    if filename.endswith('.json'):\n",
    "        with open(os.path.join(annotation_folder, filename) ,  'r', encoding='utf-8') as f:\n",
    "            annotations[filename] = json.load(f)\n",
    "            for annotation_file, annotation_data in annotations.items():\n",
    "                for label_data in annotation_data:\n",
    "                        if 'bbox' in label_data:\n",
    "                            bbox = label_data['bbox']\n",
    "                            # Swap y-coordinates to correct inversion\n",
    "                            bbox = [(x, 841 - y) for x, y in bbox]\n",
    "                            # Ensure correct ordering of coordinates (x0, y0, x1, y1)\n",
    "                            x_min = min(bbox[0][0], bbox[1][0])\n",
    "                            y_min = min(bbox[0][1], bbox[1][1])\n",
    "                            x_max = max(bbox[0][0], bbox[1][0])\n",
    "                            y_max = max(bbox[0][1], bbox[1][1])\n",
    "                            bbox_ordered = [(x_min, y_min), (x_max, y_max)]\n",
    "                            bbox = bbox_ordered\n",
    "\n",
    "                            with open(os.path.join(annotation_folder, filename), 'w', encoding='utf-8') as json_file:\n",
    "                                json.dump(bbox, json_file)\n",
    "            \n",
    "        \n",
    "    "
   ]
  },
  {
   "cell_type": "code",
   "execution_count": null,
   "id": "9a335b53-5910-4993-bd99-d6f45db85b4e",
   "metadata": {},
   "outputs": [],
   "source": []
  },
  {
   "cell_type": "code",
   "execution_count": null,
   "id": "de273ba4-2c07-4299-8649-dd1dccd0a31b",
   "metadata": {},
   "outputs": [],
   "source": []
  },
  {
   "cell_type": "code",
   "execution_count": 48,
   "id": "c7ecda42-3d8b-42d1-98fc-7fee79956ace",
   "metadata": {},
   "outputs": [],
   "source": [
    "def load_annotations(annotation_folder):\n",
    "    annotations = {}\n",
    "    for filename in os.listdir(annotation_folder):\n",
    "        if filename.endswith('.json'):\n",
    "            with open(os.path.join(annotation_folder, filename)) as f:\n",
    "                annotations[filename] = json.load(f)\n",
    "                for annotation_file, annotation_data in annotations.items():\n",
    "                    # print(\"the annoations file in first is \" , annotation_file)\n",
    "                    # print(\"the annoations data in first is \" , annotation_data)\n",
    "                    for label, label_data in annotation_data.items():\n",
    "                        if 'bbox' in label_data:\n",
    "                            bbox = label_data['bbox']\n",
    "                            # Swap y-coordinates to correct inversion\n",
    "                            bbox = [(x, 841 - y) for x, y in bbox]\n",
    "                            # Ensure correct ordering of coordinates (x0, y0, x1, y1)\n",
    "                            x_min = min(bbox[0][0], bbox[1][0])\n",
    "                            y_min = min(bbox[0][1], bbox[1][1])\n",
    "                            x_max = max(bbox[0][0], bbox[1][0])\n",
    "                            y_max = max(bbox[0][1], bbox[1][1])\n",
    "                            bbox_ordered = [(x_min, y_min), (x_max, y_max)]\n",
    "                            bbox = bbox_ordered\n",
    "                            # print(\"The bbox here is :\",bbox)\n",
    "                            # json.dump(bbox,f)\n",
    "                            with open(os.path.join(annotation_folder, filename), 'w', encoding='utf-8') as json_file:\n",
    "                                json.dump(bbox, json_file)\n",
    "                    \n",
    "                    \n",
    "                \n",
    "                \n",
    "    return annotations"
   ]
  },
  {
   "cell_type": "code",
   "execution_count": 49,
   "id": "ce4036bf-ce69-47eb-9ed7-065dd8d66ff9",
   "metadata": {},
   "outputs": [],
   "source": [
    "def visualize_image(image_path, annotation_data, output_folder):\n",
    "    image = Image.open(image_path).convert(\"RGB\")\n",
    "    draw = ImageDraw.Draw(image)\n",
    "    for label, label_data in annotation_data.items():\n",
    "        if 'bbox' in label_data:\n",
    "            bbox = label_data['bbox']\n",
    "            # Swap y-coordinates to correct inversion\n",
    "            bbox = [(x, image.height - y) for x, y in bbox]\n",
    "            # Ensure correct ordering of coordinates (x0, y0, x1, y1)\n",
    "            x_min = min(bbox[0][0], bbox[1][0])\n",
    "            y_min = min(bbox[0][1], bbox[1][1])\n",
    "            x_max = max(bbox[0][0], bbox[1][0])\n",
    "            y_max = max(bbox[0][1], bbox[1][1])\n",
    "            bbox_ordered = [(x_min, y_min), (x_max, y_max)]\n",
    "            bbox = bbox_ordered\n",
    "            # print(\"the inverterd annoations are : \" , bbox_ordered)\n",
    "            # print(\"The new bbox condinates are : \", bbox)\n",
    "            draw.rectangle(bbox_ordered, outline='red')\n",
    "    output_filename = os.path.basename(image_path)\n",
    "    output_path = os.path.join(output_folder, output_filename)\n",
    "    image.save(output_path)\n",
    "    print(f\"Image with annotations saved successfully: {output_path}\")\n"
   ]
  },
  {
   "cell_type": "code",
   "execution_count": 50,
   "id": "419ce69e-905c-4b0a-b9e0-11d2a39e1fa9",
   "metadata": {},
   "outputs": [],
   "source": [
    "def visualize_annotations(image_folder, annotation_folder, output_folder):\n",
    "    annotations = load_annotations(annotation_folder)\n",
    "    total_files = len(annotations)\n",
    "    device = torch.device('cuda' if torch.cuda.is_available() else 'cpu')\n",
    "\n",
    "    with ThreadPoolExecutor() as executor:\n",
    "        for annotation_file, annotation_data in tqdm(annotations.items(), total=total_files, desc=\"Processing images\"):\n",
    "            image_filename = annotation_file.replace('.json', '.jpg')\n",
    "            # print(\" ------------------------- \")\n",
    "            # print(\"the annotations data is :  \",annotation_data)\n",
    "            image_path = os.path.join(image_folder, image_filename)\n",
    "            if not os.path.exists(image_path):\n",
    "                print(f\"Image {image_filename} not found.\")\n",
    "                continue\n",
    "            executor.submit(visualize_image, image_path, annotation_data, output_folder)\n"
   ]
  },
  {
   "cell_type": "code",
   "execution_count": 51,
   "id": "fd150207-d979-4559-876a-d0536cb58c6f",
   "metadata": {},
   "outputs": [
    {
     "name": "stderr",
     "output_type": "stream",
     "text": [
      "Processing images: 100%|█████████████████████████████████████████████████████████████████████████| 1/1 [00:00<?, ?it/s]"
     ]
    },
    {
     "name": "stdout",
     "output_type": "stream",
     "text": [
      "Image Template9_Instance6_sample.jpg not found.\n"
     ]
    },
    {
     "name": "stderr",
     "output_type": "stream",
     "text": [
      "\n"
     ]
    }
   ],
   "source": [
    "visualize_annotations(image_folder, annotation_folder,output_folder)\n"
   ]
  },
  {
   "cell_type": "code",
   "execution_count": null,
   "id": "d9fe6779-d08e-4347-b47f-e38ece3c1f8d",
   "metadata": {},
   "outputs": [],
   "source": []
  }
 ],
 "metadata": {
  "kernelspec": {
   "display_name": "Python 3 (ipykernel)",
   "language": "python",
   "name": "python3"
  },
  "language_info": {
   "codemirror_mode": {
    "name": "ipython",
    "version": 3
   },
   "file_extension": ".py",
   "mimetype": "text/x-python",
   "name": "python",
   "nbconvert_exporter": "python",
   "pygments_lexer": "ipython3",
   "version": "3.10.14"
  }
 },
 "nbformat": 4,
 "nbformat_minor": 5
}
