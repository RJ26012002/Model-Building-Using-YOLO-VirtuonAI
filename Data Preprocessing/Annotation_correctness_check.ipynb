{
 "cells": [
  {
   "cell_type": "code",
   "execution_count": 21,
   "id": "66aec0b1-5e9a-401a-963b-7558288cdb9b",
   "metadata": {},
   "outputs": [],
   "source": [
    "import os\n",
    "import json\n",
    "import torch\n",
    "from PIL import Image, ImageDraw\n",
    "from concurrent.futures import ThreadPoolExecutor\n",
    "from tqdm import tqdm\n",
    "import tkinter as tk\n",
    "from tkinter import ttk"
   ]
  },
  {
   "cell_type": "code",
   "execution_count": 22,
   "id": "fce517db-b6bd-4129-acb7-a24ef34f171d",
   "metadata": {},
   "outputs": [],
   "source": [
    "image_folder = 'D:/Revert Annotations/images'\n",
    "annotation_folder = 'D:/Revert Annotations/annotations'\n",
    "output_folder = 'D:/Revert Annotations/revert_annotations'\n",
    "s = {}"
   ]
  },
  {
   "cell_type": "code",
   "execution_count": 23,
   "id": "960a722e-0c53-4e9d-b64d-ace4cb053391",
   "metadata": {},
   "outputs": [],
   "source": [
    "def load_annotations(annotation_folder):\n",
    "    annotations = {}\n",
    "    for filename in os.listdir(annotation_folder):\n",
    "        if filename.endswith('.json'):\n",
    "            with open(os.path.join(annotation_folder, filename)) as f:\n",
    "                annotations[filename] = json.load(f)\n",
    "    return annotations"
   ]
  },
  {
   "cell_type": "code",
   "execution_count": 42,
   "id": "26e980e6-c6af-4c09-a685-078b3bf5b6c7",
   "metadata": {},
   "outputs": [],
   "source": [
    "def visualize_image(image_path, annotation_data, output_folder):\n",
    "    image = Image.open(image_path).convert(\"RGB\")\n",
    "    draw = ImageDraw.Draw(image)\n",
    "    sample_data = annotation_data\n",
    "    s = annotation_data\n",
    "    \n",
    "    for label, label_data in annotation_data.items():\n",
    "        if 'bbox' in label_data:\n",
    "            bbox = label_data['bbox']\n",
    "            # Swap y-coordinates to correct inversion\n",
    "            bbox = [(x, image.height - y) for x, y in bbox]\n",
    "            # Ensure correct ordering of coordinates (x0, y0, x1, y1)\n",
    "            x_min = min(bbox[0][0], bbox[1][0])\n",
    "            y_min = min(bbox[0][1], bbox[1][1])\n",
    "            x_max = max(bbox[0][0], bbox[1][0])\n",
    "            y_max = max(bbox[0][1], bbox[1][1])\n",
    "            bbox_ordered = [(x_min, y_min), (x_max, y_max)]\n",
    "            print(bbox_ordered)\n",
    "            draw.rectangle(bbox_ordered, outline='red')\n",
    "    # for label, label_data in sample_data.items():\n",
    "    #     if 'bbox' in label_data:\n",
    "    #         bbox = label_data['bbox']\n",
    "    #         # Swap y-coordinates to correct inversion\n",
    "    #         bbox = [(x, image.height - y) for x, y in bbox]\n",
    "    #         # Ensure correct ordering of coordinates (x0, y0, x1, y1)\n",
    "    #         x_min = min(bbox[0][0], bbox[1][0])\n",
    "    #         y_min = min(bbox[0][1], bbox[1][1])\n",
    "    #         x_max = max(bbox[0][0], bbox[1][0])\n",
    "    #         y_max = max(bbox[0][1], bbox[1][1])\n",
    "    #         bbox_ordered = [(x_min, y_min), (x_max, y_max)]\n",
    "            # bbox[0][0] = x_min\n",
    "            # bbox[0][1] = y_min\n",
    "            # bbox[1][0] = x_max\n",
    "            # bbox[1][1] = y_max\n",
    "            \n",
    "    s = sample_data\n",
    "    # print(\"the content of the annotations data is : \" , annotation_data)\n",
    "    # print(\" -----------* -------------* ------------* \")\n",
    "    # print(\"The content of the sample data is  : \",sample_data)\n",
    "            \n",
    "    \n",
    "    output_filename = os.path.basename(image_path)\n",
    "    output_path = os.path.join(output_folder, output_filename)\n",
    "    image.save(output_path)\n",
    "    print(f\"Image with annotations saved successfully: {output_path}\")\n"
   ]
  },
  {
   "cell_type": "code",
   "execution_count": 43,
   "id": "7814b9c8-b0e6-452a-8853-f3797b5e8d31",
   "metadata": {},
   "outputs": [],
   "source": [
    "def visualize_annotations(image_folder, annotation_folder, output_folder):\n",
    "    annotations = load_annotations(annotation_folder)\n",
    "    total_files = len(annotations)\n",
    "    device = torch.device('cuda' if torch.cuda.is_available() else 'cpu')\n",
    "\n",
    "    with ThreadPoolExecutor() as executor:\n",
    "        for annotation_file, annotation_data in tqdm(annotations.items(), total=total_files, desc=\"Processing images\"):\n",
    "            image_filename = annotation_file.replace('.json', '.jpg')\n",
    "            image_path = os.path.join(image_folder, image_filename)\n",
    "            if not os.path.exists(image_path):\n",
    "                print(f\"Image {image_filename} not found.\")\n",
    "                continue\n",
    "            executor.submit(visualize_image, image_path, annotation_data, output_folder)\n"
   ]
  },
  {
   "cell_type": "code",
   "execution_count": 44,
   "id": "a2383676-c7e9-4e6a-a823-1ec071623f96",
   "metadata": {},
   "outputs": [
    {
     "name": "stderr",
     "output_type": "stream",
     "text": [
      "Processing images: 100%|█████████████████████████████████████████████████████████████████████████| 1/1 [00:00<?, ?it/s]"
     ]
    },
    {
     "name": "stdout",
     "output_type": "stream",
     "text": [
      "[(2.0, 139.5942), (185.09599999999998, 223.5941999999999)]\n",
      "[(424.0, 81.5942), (564.736, 93.5942)]\n",
      "[(296.0, 41.5942), (437.396, 53.5942)]\n",
      "[(3.0, 755.59424), (251.04, 781.99424)]\n",
      "[(90.0, 120.5942), (241.092, 132.5942)]\n",
      "[(90, 44), (231, 56)]\n",
      "[(465.0, 624.5942), (581.028, 636.5942)]\n",
      "[(3.0, 546.5942), (227.7, 572.9942)]\n",
      "[(91.0, 95.5942), (270.376, 107.5942)]\n",
      "[(0, 0), (90, 90)]\n",
      "Image with annotations saved successfully: D:/Revert Annotations/revert_annotations\\Template9_Instance6.jpg\n"
     ]
    },
    {
     "name": "stderr",
     "output_type": "stream",
     "text": [
      "\n"
     ]
    }
   ],
   "source": [
    "visualize_annotations(image_folder, annotation_folder,output_folder)\n"
   ]
  },
  {
   "cell_type": "code",
   "execution_count": 27,
   "id": "7fdb442b-7e4c-4b37-b561-e103686b801d",
   "metadata": {},
   "outputs": [
    {
     "name": "stdout",
     "output_type": "stream",
     "text": [
      "{}\n"
     ]
    }
   ],
   "source": [
    "print(s)"
   ]
  },
  {
   "cell_type": "code",
   "execution_count": 33,
   "id": "936bfea6-1275-43bc-acce-765e118af9ab",
   "metadata": {},
   "outputs": [
    {
     "ename": "ValueError",
     "evalue": "too many values to unpack (expected 2)",
     "output_type": "error",
     "traceback": [
      "\u001b[1;31m---------------------------------------------------------------------------\u001b[0m",
      "\u001b[1;31mValueError\u001b[0m                                Traceback (most recent call last)",
      "Cell \u001b[1;32mIn[33], line 6\u001b[0m\n\u001b[0;32m      4\u001b[0m \u001b[38;5;28;01mwith\u001b[39;00m \u001b[38;5;28mopen\u001b[39m(os\u001b[38;5;241m.\u001b[39mpath\u001b[38;5;241m.\u001b[39mjoin(annotation_folder, filename)) \u001b[38;5;28;01mas\u001b[39;00m f:\n\u001b[0;32m      5\u001b[0m     annotations[filename] \u001b[38;5;241m=\u001b[39m json\u001b[38;5;241m.\u001b[39mload(f)\n\u001b[1;32m----> 6\u001b[0m     \u001b[38;5;28;01mfor\u001b[39;00m annotation_file,annotation_data \u001b[38;5;129;01min\u001b[39;00m annotations:\n\u001b[0;32m      7\u001b[0m         \u001b[38;5;28mprint\u001b[39m(\u001b[38;5;124m\"\u001b[39m\u001b[38;5;124mthe annotation file is \u001b[39m\u001b[38;5;124m\"\u001b[39m , annotation_file)\n",
      "\u001b[1;31mValueError\u001b[0m: too many values to unpack (expected 2)"
     ]
    }
   ],
   "source": [
    "annotations = {}\n",
    "for filename in os.listdir(annotation_folder):\n",
    "    if filename.endswith('.json'):\n",
    "        with open(os.path.join(annotation_folder, filename)) as f:\n",
    "            annotations[filename] = json.load(f)\n",
    "            for annotation_file,annotation_data in annotations:\n",
    "                print(\"the annotation file is \" , annotation_file)"
   ]
  },
  {
   "cell_type": "code",
   "execution_count": 64,
   "id": "b8db9047-9ee5-4f50-8a21-b8a501313fae",
   "metadata": {},
   "outputs": [
    {
     "name": "stdout",
     "output_type": "stream",
     "text": [
      "[(2.0, 223.5941999999999), (185.09599999999998, 139.5942)]\n",
      "[(424.0, 93.5942), (564.736, 81.5942)]\n",
      "[(296.0, 53.5942), (437.396, 41.5942)]\n",
      "[(3.0, 781.99424), (251.04, 755.59424)]\n",
      "[(90.0, 132.5942), (241.092, 120.5942)]\n",
      "[(90, 56), (231, 44)]\n",
      "[(465.0, 636.5942), (581.028, 624.5942)]\n",
      "[(3.0, 572.9942), (227.7, 546.5942)]\n",
      "[(91.0, 107.5942), (270.376, 95.5942)]\n",
      "[(0, 0), (90, 90)]\n",
      "<class 'dict'>\n"
     ]
    }
   ],
   "source": [
    "annotations = load_annotations(annotation_folder)\n",
    "sample  = annotations\n",
    "for annotation_file, annotation_data in sample.items():\n",
    "       for label, label_data in annotation_data.items():\n",
    "        if 'bbox' in label_data:\n",
    "            bbox = label_data['bbox']\n",
    "            # print(bbox)\n",
    "            # print(type(bbox))\n",
    "            # Swap y-coordinates to correct inversion\n",
    "            bbox = [(x, 841 - y) for x, y in bbox]\n",
    "            # Ensure correct ordering of coordinates (x0, y0, x1, y1)\n",
    "           \n",
    "            x_min = min(bbox[0][0], bbox[1][0])\n",
    "            y_min = min(bbox[0][1], bbox[1][1])\n",
    "            x_max = max(bbox[0][0], bbox[1][0])\n",
    "            y_max = max(bbox[0][1], bbox[1][1])\n",
    "            bbox_ordered = [(x_min, y_min), (x_max, y_max)]\n",
    "            # print(bbox_ordered)\n",
    "            # print(\" *****************- ****************- ***************- \")\n",
    "            # bbox[0][1] = y_min\n",
    "            # print(bbox[0][0], bbox[0][1] , bbox[1][0], bbox[1][1] )\n",
    "            # print(type(bbox[0][1]))\n",
    "            print(bbox)\n",
    "            l = [[x_min , y_min],[x_max,y_max]]\n",
    "            label_data['bbox'] = l\n",
    "\n",
    "print(type(sample))\n",
    "\n",
    "            \n",
    "\n",
    "# [(2.0, 139.5942), (185.09599999999998, 223.5941999999999)]\n",
    "# [(424.0, 81.5942), (564.736, 93.5942)]\n",
    "# [(296.0, 41.5942), (437.396, 53.5942)]\n",
    "# [(3.0, 755.59424), (251.04, 781.99424)]\n",
    "# [(90.0, 120.5942), (241.092, 132.5942)]\n",
    "# [(90, 44), (231, 56)]\n",
    "# [(465.0, 624.5942), (581.028, 636.5942)]\n",
    "# [(3.0, 546.5942), (227.7, 572.9942)]\n",
    "# [(91.0, 95.5942), (270.376, 107.5942)]\n",
    "# [(0, 0), (90, 90)]\n",
    "\n",
    "# 2.0 139.5942 185.09599999999998 223.5941999999999\n",
    "# 424.0 81.5942 564.736 93.5942\n",
    "# 296.0 41.5942 437.396 53.5942\n",
    "# 3.0 755.59424 251.04 781.99424\n",
    "# 90.0 120.5942 241.092 132.5942\n",
    "# 90 44 231 56\n",
    "# 465.0 624.5942 581.028 636.5942\n",
    "# 3.0 546.5942 227.7 572.9942\n",
    "# 91.0 95.5942 270.376 107.5942\n",
    "\n",
    "\n",
    "\n",
    "# [[2.0, 617.4058000000001], [185.09599999999998, 701.4058]]\n",
    "# [[424.0, 747.4058], [564.736, 759.4058]]\n",
    "# [[296.0, 787.4058], [437.396, 799.4058]]\n",
    "# [[3.0, 59.005759999999995], [251.04, 85.40576]]\n",
    "# [[90.0, 708.4058], [241.092, 720.4058]]\n",
    "# [[90, 785], [231, 797]]\n",
    "# [[465.0, 204.4058], [581.028, 216.4058]]\n",
    "# [[3.0, 268.0058], [227.7, 294.4058]]\n",
    "# [[91.0, 733.4058], [270.376, 745.4058]]\n",
    "# [[0, 841], [90, 751]]\n",
    "\n",
    "# 2.0 223.5941999999999 185.09599999999998 139.5942\n",
    "# 424.0 93.5942 564.736 81.5942\n",
    "# 296.0 53.5942 437.396 41.5942\n",
    "# 3.0 781.99424 251.04 755.59424\n",
    "# 90.0 132.5942 241.092 120.5942\n",
    "# 90 56 231 44\n",
    "# 465.0 636.5942 581.028 624.5942\n",
    "# 3.0 572.9942 227.7 546.5942\n",
    "# 91.0 107.5942 270.376 95.5942"
   ]
  },
  {
   "cell_type": "code",
   "execution_count": null,
   "id": "5d6f7d7b-c911-4332-9483-102666c29b3e",
   "metadata": {},
   "outputs": [],
   "source": []
  }
 ],
 "metadata": {
  "kernelspec": {
   "display_name": "Python 3 (ipykernel)",
   "language": "python",
   "name": "python3"
  },
  "language_info": {
   "codemirror_mode": {
    "name": "ipython",
    "version": 3
   },
   "file_extension": ".py",
   "mimetype": "text/x-python",
   "name": "python",
   "nbconvert_exporter": "python",
   "pygments_lexer": "ipython3",
   "version": "3.10.14"
  }
 },
 "nbformat": 4,
 "nbformat_minor": 5
}
