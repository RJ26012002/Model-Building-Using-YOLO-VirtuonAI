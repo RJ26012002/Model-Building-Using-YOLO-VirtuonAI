{
 "cells": [
  {
   "cell_type": "markdown",
   "id": "2c3465c6-ea26-4526-97b9-4570533be11e",
   "metadata": {},
   "source": [
    "# Splitting Image DataSet into Training , Validation and Testing datasets"
   ]
  },
  {
   "cell_type": "code",
   "execution_count": 18,
   "id": "2ee4eb8c-478e-47d8-89c8-70e3c811ee4b",
   "metadata": {},
   "outputs": [],
   "source": [
    "import os\n",
    "import json\n",
    "import random\n",
    "import shutil"
   ]
  },
  {
   "cell_type": "code",
   "execution_count": 2,
   "id": "03551974-d1de-48dd-bccc-da5ee0956ef4",
   "metadata": {},
   "outputs": [],
   "source": [
    "#Data Path\n",
    "\n",
    "image_folder = 'C:/Users/virtu/Downloads/Data/Data/colored_images'\n",
    "annotation_folder = 'C:/Users/virtu/Downloads/Data/Data/annotation'"
   ]
  },
  {
   "cell_type": "code",
   "execution_count": 3,
   "id": "a33d83c0-23ee-4495-9868-728e166689db",
   "metadata": {},
   "outputs": [],
   "source": [
    "train_folder = 'D:/YOLO_Model/train/images'\n",
    "valid_folder = 'D:/YOLO_Model/valid/images'\n",
    "test_folder = 'D:/YOLO_Model/test/images'"
   ]
  },
  {
   "cell_type": "code",
   "execution_count": 4,
   "id": "79760d95-088a-4d68-ae6a-bcb9e1ff0590",
   "metadata": {},
   "outputs": [],
   "source": [
    "train_annotation_folder = 'D:/YOLO_Model/train/labels' \n",
    "valid_annotation_folder ='D:/YOLO_Model/valid/labels'\n",
    "test_annotation_folder = 'D:/YOLO_Model/test/labels'"
   ]
  },
  {
   "cell_type": "code",
   "execution_count": 5,
   "id": "4cbd206d-7003-4f96-aef6-565182430c94",
   "metadata": {},
   "outputs": [],
   "source": [
    "for folder in [train_folder, train_annotation_folder, valid_folder, valid_annotation_folder, test_folder, test_annotation_folder]:\n",
    "    os.makedirs(folder, exist_ok=True)"
   ]
  },
  {
   "cell_type": "code",
   "execution_count": 6,
   "id": "b751dc7a-d0c0-47e7-98cd-f65864da4de6",
   "metadata": {},
   "outputs": [],
   "source": [
    "def load_annotations(annotation_folder):\n",
    "    annotations = {}\n",
    "    for file_name in os.listdir(annotation_folder):\n",
    "        with open(os.path.join(annotation_folder, file_name), 'r') as file:\n",
    "            annotations[file_name[:-5]] = json.load(file)  # removing '.json' extension\n",
    "    return annotations"
   ]
  },
  {
   "cell_type": "code",
   "execution_count": 9,
   "id": "b4351a92-b9b0-418a-b55e-88f6235540be",
   "metadata": {},
   "outputs": [],
   "source": [
    "annotations = load_annotations(annotation_folder)"
   ]
  },
  {
   "cell_type": "code",
   "execution_count": 10,
   "id": "e22dc3b3-bdfe-40bc-b1f2-0477967b46ed",
   "metadata": {},
   "outputs": [],
   "source": [
    "image_filenames = [filename.split('.')[0] for filename in os.listdir(image_folder) if filename.endswith('.jpg')]\n"
   ]
  },
  {
   "cell_type": "code",
   "execution_count": 13,
   "id": "60491ec5-62ae-4c75-97cd-fc8742439e9c",
   "metadata": {},
   "outputs": [],
   "source": [
    "random.shuffle(image_filenames)"
   ]
  },
  {
   "cell_type": "code",
   "execution_count": 15,
   "id": "34f538cc-5754-40cc-932e-4a544b8c53d4",
   "metadata": {},
   "outputs": [],
   "source": [
    "# Split the dataset into train, validation, and test sets\n",
    "train_size = int(0.8 * len(image_filenames))\n",
    "valid_size = int(0.1 * len(image_filenames))\n",
    "test_size = len(image_filenames) - train_size - valid_size\n",
    "\n",
    "train_images = image_filenames[:train_size]\n",
    "valid_images = image_filenames[train_size:train_size+valid_size]\n",
    "test_images = image_filenames[train_size+valid_size:]"
   ]
  },
  {
   "cell_type": "code",
   "execution_count": 16,
   "id": "a5b665dd-6997-4715-9976-919072522fd8",
   "metadata": {},
   "outputs": [],
   "source": [
    "def move_images_and_annotations(image_list, source_image_folder, dest_image_folder, source_annotation_folder, dest_annotation_folder, annotations):\n",
    "    for image_name in image_list:\n",
    "        # Move image\n",
    "        shutil.move(os.path.join(source_image_folder, image_name + '.jpg'), os.path.join(dest_image_folder, image_name + '.jpg'))\n",
    "        # Move annotation\n",
    "        shutil.move(os.path.join(source_annotation_folder, image_name + '.json'), os.path.join(dest_annotation_folder, image_name + '.json'))"
   ]
  },
  {
   "cell_type": "code",
   "execution_count": 19,
   "id": "9a8df3de-0602-416d-8f4a-fd230bffecb5",
   "metadata": {},
   "outputs": [
    {
     "name": "stdout",
     "output_type": "stream",
     "text": [
      "Dataset split completed successfully!\n"
     ]
    }
   ],
   "source": [
    "# Move images and annotations to respective train, validation, and test folders\n",
    "move_images_and_annotations(train_images, image_folder, train_folder, annotation_folder, train_annotation_folder, annotations)\n",
    "move_images_and_annotations(valid_images, image_folder, valid_folder, annotation_folder, valid_annotation_folder, annotations)\n",
    "move_images_and_annotations(test_images, image_folder, test_folder, annotation_folder, test_annotation_folder, annotations)\n",
    "\n",
    "print(\"Dataset split completed successfully!\")"
   ]
  },
  {
   "cell_type": "code",
   "execution_count": null,
   "id": "381232b6-f675-4977-81fd-81d463213888",
   "metadata": {},
   "outputs": [],
   "source": []
  },
  {
   "cell_type": "code",
   "execution_count": null,
   "id": "16656422-5620-46ca-a1b4-a331db5d6516",
   "metadata": {},
   "outputs": [],
   "source": []
  },
  {
   "cell_type": "code",
   "execution_count": null,
   "id": "7d65dfc5-28cd-414f-a923-309ebbabf629",
   "metadata": {},
   "outputs": [],
   "source": []
  }
 ],
 "metadata": {
  "kernelspec": {
   "display_name": "Python 3 (ipykernel)",
   "language": "python",
   "name": "python3"
  },
  "language_info": {
   "codemirror_mode": {
    "name": "ipython",
    "version": 3
   },
   "file_extension": ".py",
   "mimetype": "text/x-python",
   "name": "python",
   "nbconvert_exporter": "python",
   "pygments_lexer": "ipython3",
   "version": "3.10.14"
  }
 },
 "nbformat": 4,
 "nbformat_minor": 5
}
