{
 "cells": [
  {
   "cell_type": "code",
   "execution_count": 22,
   "id": "cb5eaf60-4f84-4dc8-ba50-2a644a6cf00b",
   "metadata": {},
   "outputs": [],
   "source": [
    "from ultralytics import YOLO\n",
    "from PIL import Image"
   ]
  },
  {
   "cell_type": "code",
   "execution_count": 23,
   "id": "ff97ab28-3bd0-4360-b996-dcaa39b419dc",
   "metadata": {},
   "outputs": [],
   "source": [
    "model = YOLO(\"C:/Users/virtu/OCR/YOLOv8_V06/runs/detect/train/weights/best.pt\")"
   ]
  },
  {
   "cell_type": "code",
   "execution_count": 24,
   "id": "1f6b4582-8ab1-4337-bd7e-6122f7b26608",
   "metadata": {},
   "outputs": [],
   "source": [
    "img_src =\"Template50_Instance170.jpg\""
   ]
  },
  {
   "cell_type": "code",
   "execution_count": 25,
   "id": "37d37543-76fe-4435-abf9-f591c4ac0430",
   "metadata": {},
   "outputs": [],
   "source": [
    "# model.predict(\"Template50_Instance170.jpg\",save =True,save_txt=True)"
   ]
  },
  {
   "cell_type": "code",
   "execution_count": 26,
   "id": "c037a309-00f4-4bd8-9310-310d194fcc08",
   "metadata": {},
   "outputs": [
    {
     "name": "stdout",
     "output_type": "stream",
     "text": [
      "\n",
      "image 1/1 C:\\Users\\virtu\\OCR\\YOLOv8_V06\\Template50_Instance170.jpg: 640x480 1 TABLE, 1 DATE, 1 SELLER_ADDRESS, 1 SELLER_NAME, 1 SUB_TOTAL, 1 TITLE, 1 TOTAL, 1 LOGO, 1 DISCOUNT, 1 DUE_DATE, 1 NOTE, 1 PAYMENT_DETAILS, 1 SELLER_EMAIL, 1 TAX, 1 TOTAL_WORDS, 1 BILL_TO, 1 CONDITIONS, 47.2ms\n",
      "Speed: 15.7ms preprocess, 47.2ms inference, 0.0ms postprocess per image at shape (1, 3, 640, 480)\n",
      "Results saved to \u001b[1mruns\\detect\\predict11\u001b[0m\n"
     ]
    }
   ],
   "source": [
    "results = model(source=img_src,conf=0.4,save=True) "
   ]
  },
  {
   "cell_type": "code",
   "execution_count": 27,
   "id": "35341177-8a5e-461c-9a70-7406a5c76954",
   "metadata": {},
   "outputs": [],
   "source": [
    "out_img =  Image.open(f\"C:/Users/virtu/OCR/YOLOv8_V06/runs/detect/predict9/{img_src}\")\n",
    "# out_img.show()"
   ]
  },
  {
   "cell_type": "code",
   "execution_count": null,
   "id": "fdd6ceae-ea34-4134-b85b-6eea7e0a8cc0",
   "metadata": {},
   "outputs": [],
   "source": []
  },
  {
   "cell_type": "code",
   "execution_count": 42,
   "id": "16dd5643-3b76-42ee-878b-b2cd68180926",
   "metadata": {},
   "outputs": [
    {
     "ename": "AttributeError",
     "evalue": "'tuple' object has no attribute 'boxes'",
     "output_type": "error",
     "traceback": [
      "\u001b[1;31m---------------------------------------------------------------------------\u001b[0m",
      "\u001b[1;31mAttributeError\u001b[0m                            Traceback (most recent call last)",
      "Cell \u001b[1;32mIn[42], line 2\u001b[0m\n\u001b[0;32m      1\u001b[0m \u001b[38;5;28;01mfor\u001b[39;00m result \u001b[38;5;129;01min\u001b[39;00m results:\n\u001b[1;32m----> 2\u001b[0m     boxes \u001b[38;5;241m=\u001b[39m \u001b[43mresult\u001b[49m\u001b[38;5;241;43m.\u001b[39;49m\u001b[43mboxes\u001b[49m\n\u001b[0;32m      3\u001b[0m     \u001b[38;5;66;03m# print(result.obb)\u001b[39;00m\n\u001b[0;32m      4\u001b[0m \u001b[38;5;28mprint\u001b[39m(boxes)\n",
      "\u001b[1;31mAttributeError\u001b[0m: 'tuple' object has no attribute 'boxes'"
     ]
    }
   ],
   "source": [
    "for result in results:\n",
    "    boxes = result.boxes\n",
    "    # print(result.obb)\n",
    "print(boxes)\n"
   ]
  },
  {
   "cell_type": "code",
   "execution_count": 43,
   "id": "73e09c76-bb48-4c78-b41f-328240bd91af",
   "metadata": {},
   "outputs": [],
   "source": [
    "roi = boxes.xyxy"
   ]
  },
  {
   "cell_type": "code",
   "execution_count": 44,
   "id": "54fa286a-3e03-48ad-acda-01aeed66d34f",
   "metadata": {},
   "outputs": [
    {
     "name": "stdout",
     "output_type": "stream",
     "text": [
      "<class 'torch.Tensor'>\n"
     ]
    }
   ],
   "source": [
    "print(type(roi))"
   ]
  },
  {
   "cell_type": "code",
   "execution_count": 45,
   "id": "293739e8-3a41-48f1-94f7-3278aa281311",
   "metadata": {},
   "outputs": [],
   "source": [
    "r =[]\n",
    "r = roi"
   ]
  },
  {
   "cell_type": "code",
   "execution_count": 46,
   "id": "1b493a80-898c-4f64-ae75-131a30a2cd46",
   "metadata": {},
   "outputs": [],
   "source": [
    "l = r.tolist()"
   ]
  },
  {
   "cell_type": "code",
   "execution_count": 47,
   "id": "e651bedf-e520-4ae0-9b1f-ad9b7ac5eec3",
   "metadata": {},
   "outputs": [
    {
     "name": "stdout",
     "output_type": "stream",
     "text": [
      "ultralytics.engine.results.Boxes object with attributes:\n",
      "\n",
      "cls: tensor([11., 18., 16.,  7., 13., 20., 23., 26.,  0.,  8., 21.,  2.,  5., 15.,  4., 12.,  6.], device='cuda:0')\n",
      "conf: tensor([0.9880, 0.9860, 0.9859, 0.9851, 0.9826, 0.9770, 0.9723, 0.9720, 0.9637, 0.9506, 0.9491, 0.9481, 0.9401, 0.9339, 0.9325, 0.9177, 0.8281], device='cuda:0')\n",
      "data: tensor([[388.6024, 719.8201, 479.1775, 811.0522,   0.9880,  11.0000],\n",
      "        [169.0485, 759.9625, 364.4283, 772.0808,   0.9860,  18.0000],\n",
      "        [  2.7200, 602.0558, 222.2339, 656.9388,   0.9859,  16.0000],\n",
      "        [387.2491,   4.6921, 590.8890,  23.0001,   0.9851,   7.0000],\n",
      "        [426.7629, 100.0292, 558.8679, 112.0411,   0.9826,  13.0000],\n",
      "        [348.8877, 373.8791, 499.1819, 386.4163,   0.9770,  20.0000],\n",
      "        [223.6968,  59.8054, 379.0426, 150.8838,   0.9723,  23.0000],\n",
      "        [  4.6787, 319.3139, 307.1855, 365.5566,   0.9720,  26.0000],\n",
      "        [  5.9813, 193.8095, 550.9028, 266.1799,   0.9637,   0.0000],\n",
      "        [350.7933, 399.1465, 448.5301, 411.3698,   0.9506,   8.0000],\n",
      "        [330.4031, 425.2415, 558.7707, 451.0932,   0.9491,  21.0000],\n",
      "        [425.2254,  79.3157, 520.5278,  91.2972,   0.9481,   2.0000],\n",
      "        [  4.1951,  60.0047,  99.6167,  71.2599,   0.9401,   5.0000],\n",
      "        [  2.4313, 401.1015, 205.4722, 413.0525,   0.9339,  15.0000],\n",
      "        [  5.8737,  99.3674, 185.4310, 125.3735,   0.9325,   4.0000],\n",
      "        [349.6841, 346.7996, 514.1862, 358.9154,   0.9177,  12.0000],\n",
      "        [351.6988, 322.0247, 483.1892, 333.7557,   0.8281,   6.0000]], device='cuda:0')\n",
      "id: None\n",
      "is_track: False\n",
      "orig_shape: (841, 595)\n",
      "shape: torch.Size([17, 6])\n",
      "xywh: tensor([[433.8900, 765.4362,  90.5750,  91.2321],\n",
      "        [266.7384, 766.0216, 195.3798,  12.1183],\n",
      "        [112.4769, 629.4973, 219.5139,  54.8831],\n",
      "        [489.0691,  13.8461, 203.6399,  18.3080],\n",
      "        [492.8154, 106.0352, 132.1050,  12.0119],\n",
      "        [424.0348, 380.1477, 150.2942,  12.5372],\n",
      "        [301.3697, 105.3446, 155.3457,  91.0784],\n",
      "        [155.9321, 342.4352, 302.5068,  46.2428],\n",
      "        [278.4420, 229.9947, 544.9216,  72.3704],\n",
      "        [399.6617, 405.2581,  97.7368,  12.2233],\n",
      "        [444.5869, 438.1673, 228.3676,  25.8517],\n",
      "        [472.8766,  85.3064,  95.3024,  11.9816],\n",
      "        [ 51.9059,  65.6323,  95.4216,  11.2552],\n",
      "        [103.9518, 407.0770, 203.0409,  11.9510],\n",
      "        [ 95.6524, 112.3704, 179.5573,  26.0061],\n",
      "        [431.9351, 352.8575, 164.5021,  12.1158],\n",
      "        [417.4440, 327.8902, 131.4904,  11.7310]], device='cuda:0')\n",
      "xywhn: tensor([[0.7292, 0.9101, 0.1522, 0.1085],\n",
      "        [0.4483, 0.9108, 0.3284, 0.0144],\n",
      "        [0.1890, 0.7485, 0.3689, 0.0653],\n",
      "        [0.8220, 0.0165, 0.3423, 0.0218],\n",
      "        [0.8283, 0.1261, 0.2220, 0.0143],\n",
      "        [0.7127, 0.4520, 0.2526, 0.0149],\n",
      "        [0.5065, 0.1253, 0.2611, 0.1083],\n",
      "        [0.2621, 0.4072, 0.5084, 0.0550],\n",
      "        [0.4680, 0.2735, 0.9158, 0.0861],\n",
      "        [0.6717, 0.4819, 0.1643, 0.0145],\n",
      "        [0.7472, 0.5210, 0.3838, 0.0307],\n",
      "        [0.7948, 0.1014, 0.1602, 0.0142],\n",
      "        [0.0872, 0.0780, 0.1604, 0.0134],\n",
      "        [0.1747, 0.4840, 0.3412, 0.0142],\n",
      "        [0.1608, 0.1336, 0.3018, 0.0309],\n",
      "        [0.7259, 0.4196, 0.2765, 0.0144],\n",
      "        [0.7016, 0.3899, 0.2210, 0.0139]], device='cuda:0')\n",
      "xyxy: tensor([[388.6024, 719.8201, 479.1775, 811.0522],\n",
      "        [169.0485, 759.9625, 364.4283, 772.0808],\n",
      "        [  2.7200, 602.0558, 222.2339, 656.9388],\n",
      "        [387.2491,   4.6921, 590.8890,  23.0001],\n",
      "        [426.7629, 100.0292, 558.8679, 112.0411],\n",
      "        [348.8877, 373.8791, 499.1819, 386.4163],\n",
      "        [223.6968,  59.8054, 379.0426, 150.8838],\n",
      "        [  4.6787, 319.3139, 307.1855, 365.5566],\n",
      "        [  5.9813, 193.8095, 550.9028, 266.1799],\n",
      "        [350.7933, 399.1465, 448.5301, 411.3698],\n",
      "        [330.4031, 425.2415, 558.7707, 451.0932],\n",
      "        [425.2254,  79.3157, 520.5278,  91.2972],\n",
      "        [  4.1951,  60.0047,  99.6167,  71.2599],\n",
      "        [  2.4313, 401.1015, 205.4722, 413.0525],\n",
      "        [  5.8737,  99.3674, 185.4310, 125.3735],\n",
      "        [349.6841, 346.7996, 514.1862, 358.9154],\n",
      "        [351.6988, 322.0247, 483.1892, 333.7557]], device='cuda:0')\n",
      "xyxyn: tensor([[0.6531, 0.8559, 0.8053, 0.9644],\n",
      "        [0.2841, 0.9036, 0.6125, 0.9181],\n",
      "        [0.0046, 0.7159, 0.3735, 0.7811],\n",
      "        [0.6508, 0.0056, 0.9931, 0.0273],\n",
      "        [0.7172, 0.1189, 0.9393, 0.1332],\n",
      "        [0.5864, 0.4446, 0.8390, 0.4595],\n",
      "        [0.3760, 0.0711, 0.6370, 0.1794],\n",
      "        [0.0079, 0.3797, 0.5163, 0.4347],\n",
      "        [0.0101, 0.2305, 0.9259, 0.3165],\n",
      "        [0.5896, 0.4746, 0.7538, 0.4891],\n",
      "        [0.5553, 0.5056, 0.9391, 0.5364],\n",
      "        [0.7147, 0.0943, 0.8748, 0.1086],\n",
      "        [0.0071, 0.0713, 0.1674, 0.0847],\n",
      "        [0.0041, 0.4769, 0.3453, 0.4911],\n",
      "        [0.0099, 0.1182, 0.3116, 0.1491],\n",
      "        [0.5877, 0.4124, 0.8642, 0.4268],\n",
      "        [0.5911, 0.3829, 0.8121, 0.3969]], device='cuda:0')\n"
     ]
    }
   ],
   "source": [
    "print(boxes)"
   ]
  },
  {
   "cell_type": "code",
   "execution_count": 33,
   "id": "be39ed13-e8e0-4d07-821e-75220dec64e0",
   "metadata": {
    "scrolled": true
   },
   "outputs": [
    {
     "name": "stdout",
     "output_type": "stream",
     "text": [
      "[[388.6024475097656, 719.8201293945312, 479.177490234375, 811.0521850585938], [169.04849243164062, 759.9624633789062, 364.42828369140625, 772.080810546875], [2.7199788093566895, 602.0557861328125, 222.23385620117188, 656.9388427734375], [387.2491149902344, 4.692115306854248, 590.8890380859375, 23.000125885009766], [426.7629089355469, 100.0291976928711, 558.867919921875, 112.04110717773438], [348.8876647949219, 373.87908935546875, 499.181884765625, 386.416259765625], [223.6968231201172, 59.80540084838867, 379.0425720214844, 150.88380432128906], [4.678741455078125, 319.3138732910156, 307.185546875, 365.556640625], [5.981254577636719, 193.80950927734375, 550.90283203125, 266.179931640625], [350.79327392578125, 399.146484375, 448.5300598144531, 411.36981201171875], [330.40313720703125, 425.241455078125, 558.7706909179688, 451.09320068359375], [425.22540283203125, 79.31565856933594, 520.52783203125, 91.29723358154297], [4.195061206817627, 60.00473403930664, 99.61670684814453, 71.25991821289062], [2.431304454803467, 401.10150146484375, 205.47222900390625, 413.0525207519531], [5.873741149902344, 99.36737823486328, 185.43104553222656, 125.37347412109375], [349.6840515136719, 346.7995910644531, 514.1861572265625, 358.9153747558594], [351.69879150390625, 322.024658203125, 483.1891784667969, 333.7557067871094]]\n"
     ]
    }
   ],
   "source": [
    "print(l)"
   ]
  },
  {
   "cell_type": "code",
   "execution_count": 54,
   "id": "aa8d7a24-7d5d-40cf-b670-af9c940b4021",
   "metadata": {},
   "outputs": [],
   "source": [
    "claas = boxes.cls"
   ]
  },
  {
   "cell_type": "code",
   "execution_count": 56,
   "id": "15c56b47-d21d-4dd8-b91e-01d26c6a1b99",
   "metadata": {},
   "outputs": [
    {
     "name": "stdout",
     "output_type": "stream",
     "text": [
      "[11, 18, 16, 7, 13, 20, 23, 26, 0, 8, 21, 2, 5, 15, 4, 12, 6]\n"
     ]
    }
   ],
   "source": [
    "clases = claas.tolist()\n",
    "cls = []\n",
    "for i in clases:\n",
    "    cls.append(int(i))\n",
    "\n",
    "print(cls)"
   ]
  },
  {
   "cell_type": "code",
   "execution_count": 61,
   "id": "4fec099a-6ab5-41f4-b83b-337b67f13870",
   "metadata": {},
   "outputs": [],
   "source": [
    "# print(l[0][0],l[0][1],l[1][0],l[1][1])"
   ]
  },
  {
   "cell_type": "code",
   "execution_count": 62,
   "id": "1bd6ebe0-b80a-4ad4-88bb-c10c1e9969ed",
   "metadata": {},
   "outputs": [],
   "source": [
    "# print(l[0][0])\n",
    "# print(type(l[0][0]))"
   ]
  },
  {
   "cell_type": "code",
   "execution_count": 63,
   "id": "d5d2169b-4472-4483-b1d2-374d739bdace",
   "metadata": {},
   "outputs": [],
   "source": [
    "# for x , k in enumerate(l):\n",
    "#     print(k[0],k[1],k[2],k[1])"
   ]
  },
  {
   "cell_type": "code",
   "execution_count": 13,
   "id": "ffb3bc0d-46bf-4dd6-9c7a-0c924e14aee3",
   "metadata": {},
   "outputs": [],
   "source": [
    "import cv2\n",
    "import numpy as np\n",
    "import pytesseract\n",
    "import os\n",
    "from matplotlib import pyplot as plt "
   ]
  },
  {
   "cell_type": "code",
   "execution_count": 65,
   "id": "c7bca366-1f8c-4d58-abe6-367d7444f637",
   "metadata": {},
   "outputs": [],
   "source": [
    "# for x , r in enumerate(l):\n",
    "#         # cv2.rectangle(\"Template50_Instance170.jpg\" ,((r[0],r[1]),((r[2]),r[3]) ,(0,255,0) ,cv2.FILLED ))\n",
    "#         # imgShow = cv2.addWeighted(imgShow ,0.99,imgMask,0.1,0)\n",
    "#         # # cv2.imshow(y,imgShow)\n",
    "#         # cv2.waitKey(0)\n",
    "\n",
    "        \n",
    "#         imgCrop = imgScan[ r[1]:r[3] , r[0]:r[2] ]\n",
    "#         # cv2.imshow(str(x),imgCrop)\n",
    "#         # cv2.waitKey(0)\n",
    "\n",
    "#         if r[2] == 'Text' :\n",
    "#             print(f' {r[3]} : {pytesseract.image_to_string(imgCrop)} ')\n",
    "#             myData.append(pytesseract.image_to_string(imgCrop))\n",
    "\n",
    "# print()"
   ]
  },
  {
   "cell_type": "code",
   "execution_count": 66,
   "id": "f0566ac5-9110-4d61-8a24-e9ce30032fbe",
   "metadata": {},
   "outputs": [],
   "source": [
    "per = 25\n",
    "pytesseract.pytesseract.tesseract_cmd =  'C:\\\\Program Files\\\\Tesseract-OCR\\\\tesseract.exe'"
   ]
  },
  {
   "cell_type": "code",
   "execution_count": 67,
   "id": "5248c326-61fc-4dd6-b6d7-91f2df34e6b0",
   "metadata": {},
   "outputs": [],
   "source": [
    "imgQ = cv2.imread(img_src)\n",
    "h,w,c = imgQ.shape"
   ]
  },
  {
   "cell_type": "code",
   "execution_count": 68,
   "id": "362c898e-0618-4a94-8bb9-d39a1e49e345",
   "metadata": {},
   "outputs": [],
   "source": [
    "orb = cv2.ORB_create(20000)\n",
    "kp1 , des1 = orb.detectAndCompute(imgQ, None)"
   ]
  },
  {
   "cell_type": "code",
   "execution_count": 69,
   "id": "a35f73b0-a0a6-46bd-951e-199e5dd27768",
   "metadata": {},
   "outputs": [
    {
     "name": "stdout",
     "output_type": "stream",
     "text": [
      "######## Extracting the data from Template2_Instance164.jpg #######\n",
      "  Bill to:Mark Day\n",
      "6060 Juan Port\n",
      "\n",
      "Ashleyland, HI 34751 US\n",
      "Tel:+(312)546-3369\n",
      "Email:maxwelldavid@example.org\n",
      "Site hvins-Hanew moore. net\n",
      "\n",
      " \n",
      "   \n",
      "  Address:13868 Michael Wall\n",
      "North Cindytown, CT 45483 US\n",
      " \n",
      "   \n",
      "  SUB TOTAL : 432.52 EUR\n",
      " \n",
      "  Description QUANTITY, PRICE\n",
      "Wear. 3.00 $36.67\n",
      "_ Employee ball 100 $42.66\n",
      "‘Admit itizen 4.00 si98i\n",
      "Radio election. 3.00 $36.17\n",
      "‘Cup read. 1.00 $92.10\n",
      "\n",
      " \n",
      "  TOTAL : 442.15 EUR\n",
      " \n",
      "   \n",
      "  Barnes, Garcia and Martin\n",
      " \n",
      "   \n",
      "  Date: 05-Jan-2000\n",
      " \n",
      "  GST(7%) : 30.28\n",
      " \n",
      "\n"
     ]
    }
   ],
   "source": [
    "path = 'D:\\\\Testing'\n",
    "myPicList = os.listdir(path)\n",
    "# print(myPicList)\n",
    "\n",
    "for j,y in enumerate(myPicList):\n",
    "    img = cv2.imread(path + \"/\" + y)\n",
    "    # img = cv2.resize(img,(w//2,h//2))\n",
    "    # cv2.imshow(y,img)\n",
    "    # cv2.waitKey(0)\n",
    "    kp2,des2 = orb.detectAndCompute(img, None)\n",
    "    bf = cv2.BFMatcher(cv2.NORM_HAMMING)\n",
    "    matches = bf.match(des2,des1)\n",
    "    # matches.sort(key=lambda x:x.distance)\n",
    "    good = matches[: int(len(matches)*(per/100))]\n",
    "    imgMatch = cv2.drawMatches(img,kp2,imgQ,kp1,good[:100],None , flags=2)\n",
    "    # imgMatch = cv2.resize(imgMatch,(w//3,h//3))\n",
    "    # cv2.imshow(y,imgMatch)\n",
    "    # cv2.waitKey(0)\n",
    "\n",
    "    srcPoints = np.float32([kp2[m.queryIdx].pt for m in good ]).reshape(-1,1,2)\n",
    "    dstPoints = np.float32([kp1[m.trainIdx].pt for m in good ]).reshape(-1,1,2)\n",
    "\n",
    "    M,_ = cv2.findHomography(srcPoints,dstPoints,cv2.RANSAC,5.0)\n",
    "    imgScan = cv2.warpPerspective(img,M,(w,h))\n",
    "    # imgScan = cv2.resize(imgScan,(w//3,h//3))\n",
    "    # cv2.imshow(y,imgScan)\n",
    "    # cv2.waitKey(0)\n",
    "    imgShow = imgScan.copy()\n",
    "    imgMask = np.zeros_like(imgShow)\n",
    "    # print(imgMask)\n",
    "\n",
    "    myData = []\n",
    "\n",
    "    print(f\"######## Extracting the data from {y} #######\")\n",
    "    for x , r in enumerate(l):\n",
    "        # cv2.rectangle(imgMask ,((r[0]),r[1]),((r[2]),r[3]) ,(0,255,0) ,cv2.FILLED )\n",
    "        # imgShow = cv2.addWeighted(imgShow ,0.99,imgMask,0.1,0)\n",
    "        # cv2.imshow(y,imgShow)\n",
    "        # cv2.waitKey(0)\n",
    "\n",
    "        \n",
    "        imgCrop = imgScan[int(r[1]):int(r[3]), int(r[0]):int(r[2])]\n",
    "        # cv2.imshow(str(x),imgCrop)\n",
    "        # cv2.waitKey(0)\n",
    "\n",
    "        \n",
    "        print(f'  {pytesseract.image_to_string(imgCrop)} ')\n",
    "        myData.append(pytesseract.image_to_string(imgCrop))\n",
    "\n",
    "    print()\n",
    "        \n",
    "    # imgShow = cv2.resize(imgShow,(w//3,h//3))\n",
    "    # cv2.imshow(y,imgShow)\n",
    "    # cv2.waitKey(0)\n",
    "\n",
    "    \n",
    "    \n",
    "    "
   ]
  },
  {
   "cell_type": "code",
   "execution_count": 46,
   "id": "60d29d30-6a08-44bd-b038-0e58b5da3547",
   "metadata": {},
   "outputs": [],
   "source": [
    "# import keras_ocr\n",
    "# import cv2\n"
   ]
  },
  {
   "cell_type": "code",
   "execution_count": 47,
   "id": "c6fda599-72d3-4286-8f22-6445040351af",
   "metadata": {},
   "outputs": [],
   "source": [
    "# !pip install -q keras_ocr"
   ]
  },
  {
   "cell_type": "code",
   "execution_count": 48,
   "id": "4a1ddfb7-dc52-406d-84e8-7538515b387f",
   "metadata": {},
   "outputs": [],
   "source": [
    "# import keras_ocr\n",
    "# import cv2\n"
   ]
  },
  {
   "cell_type": "code",
   "execution_count": 49,
   "id": "96724b09-f415-472d-bfa8-b7cc1bed405c",
   "metadata": {},
   "outputs": [],
   "source": [
    "# pipeline = keras_ocr.pipeline.Pipeline()"
   ]
  },
  {
   "cell_type": "code",
   "execution_count": 34,
   "id": "3263e04c-d776-40ee-b661-30f9c3f1d15b",
   "metadata": {},
   "outputs": [],
   "source": [
    "import os\n",
    "os.environ['KMP_DUPLICATE_LIB_OK'] = 'True'"
   ]
  },
  {
   "cell_type": "code",
   "execution_count": 35,
   "id": "3ae720d4-9e10-4c34-9058-ec270b1b63a9",
   "metadata": {},
   "outputs": [],
   "source": [
    "import easyocr\n",
    "import cv2"
   ]
  },
  {
   "cell_type": "code",
   "execution_count": 57,
   "id": "01b42a76-7fb3-480c-bbc4-186c496c4243",
   "metadata": {},
   "outputs": [
    {
     "name": "stdout",
     "output_type": "stream",
     "text": [
      "LOGO\n",
      "SELLER_EMAIL\n",
      "PAYMENT_DETAILS\n",
      "TITLE\n",
      "DUE_DATE\n",
      "TAX\n",
      "BILL_TO\n",
      "CONDITIONS\n",
      "TABLE\n",
      "TOTAL\n",
      "TOTAL_WORDS\n",
      "DATE\n",
      "SELLER_NAME\n",
      "NOTE\n",
      "SELLER_ADDRESS\n",
      "DISCOUNT\n",
      "SUB_TOTAL\n"
     ]
    }
   ],
   "source": [
    "class_list = ['TABLE','BUYER','DATE','NUMBER','SELLER_ADDRESS','SELLER_NAME','SUB_TOTAL','TITLE','TOTAL',\n",
    "              'GSTIN','GST(7%)','LOGO' ,'DISCOUNT','DUE_DATE' ,'GSTIN_BUYER','NOTE','PAYMENT_DETAILS','PO_NUMBER','SELLER_EMAIL' ,\n",
    "              'SELLER_SITE','TAX','TOTAL_WORDS' ,'GSTIN_SELLER','BILL_TO','GST(9%)','SEND_TO','CONDITIONS','AMOUNT_DUE','GST(1%)','GST(18%)'\n",
    "]\n",
    "for i in cls:\n",
    "    print(class_list[i])"
   ]
  },
  {
   "cell_type": "code",
   "execution_count": 62,
   "id": "5fcb6ff4-c735-43aa-a0a2-87c9f3cfc7f0",
   "metadata": {},
   "outputs": [
    {
     "name": "stdout",
     "output_type": "stream",
     "text": [
      "LOGO\n",
      " \n",
      "SELLER_EMAIL\n",
      "Email:houstonjoyce@example net\n",
      " \n",
      "PAYMENT_DETAILS\n",
      "Bank Name\n",
      "Central\n",
      "Bank of USA\n",
      "Branch Name\n",
      "Raf CAMP\n",
      "Bank Account Number 10341079\n",
      "Bank Swift Code\n",
      "SBININBB2SO\n",
      " \n",
      "TITLE\n",
      "COMMERCIAL INVOICE\n",
      " \n",
      "DUE_DATE\n",
      "Due Date : 12-Feb-2017\n",
      " \n",
      "TAX\n",
      "TAX:VAT (3.649): 19.34 $\n",
      " \n",
      "BILL_TO\n",
      "BILL_TO:\n",
      "Anthony Diaz\n",
      "271 Thomas Wells\n",
      "Joseshire, AR\n",
      "Tel;+ (5161222-5337\n",
      "Email stacey53@example,org\n",
      "Site https Wliohnson com}\n",
      "23170\n",
      " \n",
      "CONDITIONS\n",
      "Wuetne\n",
      "Conditions\n",
      "Please send\n",
      "payment within\n",
      "daya\n",
      "of receiving this Involce\n",
      "There will be\n",
      "5% interest charge per\n",
      "on late\n",
      "involces\n",
      "Plcase Include the Invoice number In vour pavmeni notes\n",
      "month\n",
      " \n",
      "TABLE\n",
      "Item\n",
      "Price\n",
      "Quantity\n",
      "Amount\n",
      "Can two those\n",
      "98.23\n",
      "5.00\n",
      "491.15\n",
      "Voice include inside_\n",
      "8.65\n",
      "8.65\n",
      "Concern\n",
      "31.23\n",
      "1.00\n",
      "31.23\n",
      "Loca\n",
      " \n",
      "TOTAL\n",
      "TOTAL\n",
      "526.58 $\n",
      " \n",
      "TOTAL_WORDS\n",
      "Total in words:\n",
      "five hundred and twent \n",
      "Y-six point five eight\n",
      " \n",
      "DATE\n",
      "Dale_\n",
      "24-Jul-2019\n",
      " \n",
      "SELLER_NAME\n",
      "Stein-Fernandez\n",
      " \n",
      "NOTE\n",
      "Note Tota\n",
      "payment due in 14 days_\n",
      " \n",
      "SELLER_ADDRESS\n",
      "Address:0344 Jonathan Club\n",
      "Port Patriciashire.PW 72063 US\n",
      " \n",
      "DISCOUNT\n",
      "DISCOUNT(2.8921: ( 15.35\n",
      " \n",
      "SUB_TOTAL\n",
      "SUB TOTAL : 531.03\n",
      " \n"
     ]
    }
   ],
   "source": [
    "# Load the OCR reader\n",
    "reader = easyocr.Reader(['en'])\n",
    "\n",
    "# Load the image\n",
    "image = cv2.imread(img_src)  # Replace 'image.jpg' with your image filename\n",
    "\n",
    "i=0\n",
    "bounding_boxes = l\n",
    "for bbox in bounding_boxes:\n",
    "    x_min, y_min, x_max, y_max = bbox\n",
    "    region_of_interest = image[int(y_min):int(y_max), int(x_min):int(x_max)]\n",
    "    results = reader.readtext(region_of_interest)\n",
    "\n",
    "    # Print the recognized text\n",
    "    list = []\n",
    "    print(class_list[cls[i]])\n",
    "    # print(\"for region_of_interest : \" ,bbox) \n",
    "    for result in results:\n",
    "    \n",
    "        print(result[1])\n",
    "    print(\" \")\n",
    "    i=i+1\n",
    "# [11., 18., 16.,  7., 13., 20., 23., 26.,  0.,  8., 21.,  2.,  5., 15.,  4., 12.,  6.]"
   ]
  },
  {
   "cell_type": "code",
   "execution_count": 11,
   "id": "42129121-f542-43b3-bc27-dc0c416d613f",
   "metadata": {},
   "outputs": [],
   "source": [
    "import streamlit as st"
   ]
  },
  {
   "cell_type": "code",
   "execution_count": 21,
   "id": "653923f2-9ca2-4e52-90c8-f8178afc2f5b",
   "metadata": {},
   "outputs": [
    {
     "name": "stdout",
     "output_type": "stream",
     "text": [
      "khflh\n"
     ]
    }
   ],
   "source": [
    "# def main():\n",
    "#     os.environ[\"KMP_DUPLICATE_LIB_OK\"] = \"TRUE\"\n",
    "#     st.title(\"Object Detection Using Yolo\")\n",
    "#     st.sidebar.title(\"Input\")\n",
    "\n",
    "#     input_file = st.sidebar.file_uploader(\"Upload a File\",type=['jpg','png','jpeg'])\n",
    "#     sample_img = 'Template1_Instance2.jpg'\n",
    "\n",
    "#     # print(\"the type is \",input_file.name)\n",
    "#     img_src = input_file\n",
    "    \n",
    "#     path = \"D:/YOLO_Display/APP\"\n",
    "#     if input_file is not None:\n",
    "#         with open(path, \"wb\") as f:\n",
    "#             f.write(input_file.getbuffer())\n",
    "#         # st.image([input_file,input_file])\n",
    "#         col1, col2 = st.columns(2)\n",
    "#         original = input_file\n",
    "#         col1.header(\"Original\")\n",
    "#         col1.image(original, use_column_width=True)\n",
    "#         grayscale = input_file\n",
    "#         col2.header(\"Object Detection\")\n",
    "#         col2.image(grayscale, use_column_width=True)\n",
    "#         results = model(source=sample_img,conf=0.4,save=True) \n",
    "\n",
    "\n",
    "        \n",
    "#     else:\n",
    "#         st.text(\"No Image is Given\")\n",
    "#         # st.image(sample_img)\n",
    "\n",
    "# if __name__ == '__main__':\n",
    "#     try:\n",
    "        \n",
    "#         main()\n",
    "#     except SystemExit:\n",
    "        \n",
    "#         pass\n"
   ]
  },
  {
   "cell_type": "code",
   "execution_count": null,
   "id": "a8828191-f2ea-48c4-8820-baa7532e31b4",
   "metadata": {},
   "outputs": [],
   "source": []
  },
  {
   "cell_type": "code",
   "execution_count": null,
   "id": "2001e2df-50d0-4f8f-926e-f15f2d479b08",
   "metadata": {},
   "outputs": [],
   "source": []
  },
  {
   "cell_type": "code",
   "execution_count": null,
   "id": "66d65add-b6f9-41c9-b2a1-5138649d9002",
   "metadata": {},
   "outputs": [],
   "source": []
  }
 ],
 "metadata": {
  "kernelspec": {
   "display_name": "Python 3 (ipykernel)",
   "language": "python",
   "name": "python3"
  },
  "language_info": {
   "codemirror_mode": {
    "name": "ipython",
    "version": 3
   },
   "file_extension": ".py",
   "mimetype": "text/x-python",
   "name": "python",
   "nbconvert_exporter": "python",
   "pygments_lexer": "ipython3",
   "version": "3.10.14"
  }
 },
 "nbformat": 4,
 "nbformat_minor": 5
}
